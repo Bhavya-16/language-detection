{
 "cells": [
  {
   "cell_type": "code",
   "execution_count": 1,
   "id": "1bd829c2",
   "metadata": {},
   "outputs": [
    {
     "name": "stdout",
     "output_type": "stream",
     "text": [
      "Collecting langdetect\n",
      "  Downloading langdetect-1.0.9.tar.gz (981 kB)\n",
      "Requirement already satisfied: six in c:\\users\\jakka\\anaconda3\\lib\\site-packages (from langdetect) (1.16.0)\n",
      "Building wheels for collected packages: langdetect\n",
      "  Building wheel for langdetect (setup.py): started\n",
      "  Building wheel for langdetect (setup.py): finished with status 'done'\n",
      "  Created wheel for langdetect: filename=langdetect-1.0.9-py3-none-any.whl size=993242 sha256=49162dec0ed457e2ffb991e304ed0ec85f4781f58e43822d7d16d78ffbe1a9ae\n",
      "  Stored in directory: c:\\users\\jakka\\appdata\\local\\pip\\cache\\wheels\\d1\\c1\\d9\\7e068de779d863bc8f8fc9467d85e25cfe47fa5051fff1a1bb\n",
      "Successfully built langdetect\n",
      "Installing collected packages: langdetect\n",
      "Successfully installed langdetect-1.0.9\n",
      "Note: you may need to restart the kernel to use updated packages.\n"
     ]
    }
   ],
   "source": [
    "pip install langdetect"
   ]
  },
  {
   "cell_type": "code",
   "execution_count": 2,
   "id": "ba6cac38",
   "metadata": {},
   "outputs": [
    {
     "name": "stdout",
     "output_type": "stream",
     "text": [
      "Enter a text to detect its languge: cómo estás\n",
      "The detected Language is :es\n"
     ]
    }
   ],
   "source": [
    "from langdetect import detect\n",
    "user_input = input(\"Enter a text to detect its languge: \")\n",
    "language = detect(user_input)\n",
    "print(f\"The detected Language is :{language}\")"
   ]
  },
  {
   "cell_type": "code",
   "execution_count": 7,
   "id": "e66e6b7c",
   "metadata": {},
   "outputs": [
    {
     "name": "stdout",
     "output_type": "stream",
     "text": [
      "Enter a text to detect its languge: మీరు ఎలా ఉన్నారు\n",
      "The detected Language is :te\n"
     ]
    }
   ],
   "source": [
    "from langdetect import detect\n",
    "user_input = input(\"Enter a text to detect its languge: \")\n",
    "language = detect(user_input)\n",
    "print(f\"The detected Language is :{language}\")"
   ]
  },
  {
   "cell_type": "code",
   "execution_count": 6,
   "id": "0d35f4a3",
   "metadata": {},
   "outputs": [
    {
     "name": "stdout",
     "output_type": "stream",
     "text": [
      "Enter a text to detect its languge:  സുഖമാണോ\n",
      "The detected Language is :ml\n"
     ]
    }
   ],
   "source": [
    "from langdetect import detect\n",
    "user_input = input(\"Enter a text to detect its languge: \")\n",
    "language = detect(user_input)\n",
    "print(f\"The detected Language is :{language}\")"
   ]
  },
  {
   "cell_type": "code",
   "execution_count": null,
   "id": "0abdca4c",
   "metadata": {},
   "outputs": [],
   "source": []
  }
 ],
 "metadata": {
  "kernelspec": {
   "display_name": "Python 3 (ipykernel)",
   "language": "python",
   "name": "python3"
  },
  "language_info": {
   "codemirror_mode": {
    "name": "ipython",
    "version": 3
   },
   "file_extension": ".py",
   "mimetype": "text/x-python",
   "name": "python",
   "nbconvert_exporter": "python",
   "pygments_lexer": "ipython3",
   "version": "3.9.12"
  }
 },
 "nbformat": 4,
 "nbformat_minor": 5
}
